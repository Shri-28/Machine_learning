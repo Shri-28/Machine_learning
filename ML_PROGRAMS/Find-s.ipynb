{
 "cells": [
  {
   "cell_type": "code",
   "execution_count": 37,
   "metadata": {},
   "outputs": [
    {
     "name": "stdout",
     "output_type": "stream",
     "text": [
      "The complete Dataset:\n",
      "        0     1       2        3     4       5  6\n",
      "0  Sunny  Warm  Normal  Strong   Warm    Same  1\n",
      "1  Sunny  Warm    High  Strong   Warm    Same  1\n",
      "2  Rainy  Cold    High  Strong   Warm  Change  0\n",
      "3  Sunny  Warm    High  Strong   Cool  Change  1\n",
      "4  Sunny  Warm  Normal  Strong   Cool    Same  1\n",
      "5  Sunny  Cold  Normal     Weak  Cool    Same  1\n"
     ]
    }
   ],
   "source": [
    "import pandas as pd\n",
    "\n",
    "#READ THE CSV FILE FROM FOLDER\n",
    "df = pd.read_csv(\"weather.csv\",header=None)\n",
    "print(\"The complete Dataset:\\n\",df)"
   ]
  },
  {
   "cell_type": "code",
   "execution_count": 38,
   "metadata": {},
   "outputs": [
    {
     "name": "stdout",
     "output_type": "stream",
     "text": [
      "The Train Data:\n",
      "        0     1       2        3     4       5  6\n",
      "4  Sunny  Warm  Normal  Strong   Cool    Same  1\n",
      "0  Sunny  Warm  Normal  Strong   Warm    Same  1\n",
      "3  Sunny  Warm    High  Strong   Cool  Change  1\n",
      "The Test Data:\n",
      "        0     1       2        3     4       5  6\n",
      "1  Sunny  Warm    High  Strong   Warm    Same  1\n",
      "2  Rainy  Cold    High  Strong   Warm  Change  0\n",
      "5  Sunny  Cold  Normal     Weak  Cool    Same  1\n"
     ]
    }
   ],
   "source": [
    "#SPLIT THE DATA INTO TRAIN AND TEST\n",
    "train = df.sample(frac=0.5,random_state=None)\n",
    "test = df.drop(train.index)\n",
    "print(\"The Train Data:\\n\",train)\n",
    "print(\"The Test Data:\\n\",test)"
   ]
  },
  {
   "cell_type": "code",
   "execution_count": 39,
   "metadata": {},
   "outputs": [],
   "source": [
    "#DEFINE THE HYPOTHESIS\n",
    "def hypothesis(train):\n",
    "    print(\"The Generated Hypothesis:\\n\")\n",
    "    h = pd.Series([\"-\"]*(len(train.columns)-1))\n",
    "    print(list(h))\n",
    "    for (i,r) in train.iterrows():\n",
    "        print(\"The list of Data Instance:\\n\",list(r))\n",
    "        if r.iloc[-1]==1:\n",
    "            for j in range(len(train.columns)-1):\n",
    "                if h.iloc[j]==r.iloc[j]:\n",
    "                    continue\n",
    "                else :\n",
    "                    if h.iloc[j]==\"-\":\n",
    "                        h.iloc[j]=r.iloc[j]\n",
    "                    else:\n",
    "                        h.iloc[j]=\"?\"\n",
    "    print(\"Hypothesis:\",list(h))\n",
    "    return(h)\n",
    "\n",
    "#TEST THE HYPOTHESIS\n",
    "def testh(h,sample):\n",
    "    index=h!=\"?\"\n",
    "    if (h[index]==sample[index]).all():\n",
    "        return 1\n",
    "    else:\n",
    "        return 0\n",
    "\n",
    "#CALCULATE ACCURACCY\n",
    "def acc(h,test):\n",
    "    a=0\n",
    "    for (i,r) in train.iterrows():\n",
    "        t=testh(h,r.iloc[:-1])\n",
    "        if t==r.iloc[-1]:\n",
    "            a=a+1\n",
    "    return (a/len(test))*100\n"
   ]
  },
  {
   "cell_type": "code",
   "execution_count": 40,
   "metadata": {},
   "outputs": [
    {
     "name": "stdout",
     "output_type": "stream",
     "text": [
      "The Generated Hypothesis:\n",
      "\n",
      "['-', '-', '-', '-', '-', '-']\n",
      "The list of Data Instance:\n",
      " ['Sunny', 'Warm', 'Normal', 'Strong ', 'Cool', 'Same', 1]\n",
      "The list of Data Instance:\n",
      " ['Sunny', 'Warm', 'Normal', 'Strong ', 'Warm', 'Same', 1]\n",
      "The list of Data Instance:\n",
      " ['Sunny', 'Warm', 'High', 'Strong ', 'Cool', 'Change', 1]\n",
      "Hypothesis: ['Sunny', 'Warm', '?', 'Strong ', '?', '?']\n",
      "ACCURACY: 100.0\n"
     ]
    }
   ],
   "source": [
    "#RESULT\n",
    "hpy = hypothesis(train)\n",
    "print(\"ACCURACY:\",acc(hpy,test))"
   ]
  },
  {
   "cell_type": "code",
   "execution_count": null,
   "metadata": {},
   "outputs": [],
   "source": []
  }
 ],
 "metadata": {
  "kernelspec": {
   "display_name": "Python 3",
   "language": "python",
   "name": "python3"
  },
  "language_info": {
   "codemirror_mode": {
    "name": "ipython",
    "version": 3
   },
   "file_extension": ".py",
   "mimetype": "text/x-python",
   "name": "python",
   "nbconvert_exporter": "python",
   "pygments_lexer": "ipython3",
   "version": "3.7.0"
  }
 },
 "nbformat": 4,
 "nbformat_minor": 2
}
